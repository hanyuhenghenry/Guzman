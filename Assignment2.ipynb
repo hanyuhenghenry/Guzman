{
 "cells": [
  {
   "cell_type": "code",
   "execution_count": 41,
   "metadata": {},
   "outputs": [],
   "source": [
    "import pandas as pd\n",
    "import io\n",
    "import requests\n",
    "from dfply import *\n",
    "import datetime\n",
    "from matplotlib import pyplot as plt"
   ]
  },
  {
   "cell_type": "code",
   "execution_count": 2,
   "metadata": {},
   "outputs": [],
   "source": [
    "# Reading first csv\n",
    "url1 = \"https://raw.githubusercontent.com/bwu99/nov2020_homework/main/data/Assignment%202%20-%20USA_AL_Auburn-Opelika.AP.722284_TMY3_BASE.csv\"\n",
    "s = requests.get(url1).content\n",
    "df1 = pd.read_csv(io.StringIO(s.decode('utf-8')))"
   ]
  },
  {
   "cell_type": "code",
   "execution_count": 3,
   "metadata": {},
   "outputs": [],
   "source": [
    "# Convert Date/Time to only date and hour\n",
    "temp = pd.Timedelta('1 days')\n",
    "df1['hour'] = df1['Date/Time'].apply(lambda x: x.split()[0]+' '+str(int(x.split()[1][:2])-1).zfill(2))"
   ]
  },
  {
   "cell_type": "code",
   "execution_count": 4,
   "metadata": {},
   "outputs": [],
   "source": [
    "# Reading second csv\n",
    "url2 = \"https://raw.githubusercontent.com/bwu99/nov2020_homework/main/data/Assignment%202%20-%20new.app4.csv\"\n",
    "s = requests.get(url2).content\n",
    "df2 = pd.read_csv(io.StringIO(s.decode('utf-8')), index_col = 0)"
   ]
  },
  {
   "cell_type": "code",
   "execution_count": 5,
   "metadata": {},
   "outputs": [],
   "source": [
    "# Summing up minute by minute data to hourly data and convert W to kW\n",
    "df2['hour'] = pd.to_datetime(df2['time']).dt.strftime('%m/%d %H')\n",
    "year = int(pd.to_datetime(df2.iloc[0, 0]).strftime('%Y'))\n",
    "df2 >>= group_by(X.hour) >> summarize(Extra = X.W_min.sum()/1000)"
   ]
  },
  {
   "cell_type": "code",
   "execution_count": 6,
   "metadata": {},
   "outputs": [],
   "source": [
    "# Joining 2 datadrames\n",
    "df = (df1 >> left_join(df2, by = 'hour') >> select(~X.hour)).fillna(0)"
   ]
  },
  {
   "cell_type": "code",
   "execution_count": 7,
   "metadata": {},
   "outputs": [],
   "source": [
    "# Adding up columns to get total consumption\n",
    "df['total_consumption'] = df.sum(axis = 1)"
   ]
  },
  {
   "cell_type": "code",
   "execution_count": 8,
   "metadata": {},
   "outputs": [
    {
     "data": {
      "text/html": [
       "<div>\n",
       "<style scoped>\n",
       "    .dataframe tbody tr th:only-of-type {\n",
       "        vertical-align: middle;\n",
       "    }\n",
       "\n",
       "    .dataframe tbody tr th {\n",
       "        vertical-align: top;\n",
       "    }\n",
       "\n",
       "    .dataframe thead th {\n",
       "        text-align: right;\n",
       "    }\n",
       "</style>\n",
       "<table border=\"1\" class=\"dataframe\">\n",
       "  <thead>\n",
       "    <tr style=\"text-align: right;\">\n",
       "      <th></th>\n",
       "      <th>Date/Time</th>\n",
       "      <th>Electricity:Facility [kW](Hourly)</th>\n",
       "      <th>Gas:Facility [kW](Hourly)</th>\n",
       "      <th>Heating:Electricity [kW](Hourly)</th>\n",
       "      <th>Heating:Gas [kW](Hourly)</th>\n",
       "      <th>Cooling:Electricity [kW](Hourly)</th>\n",
       "      <th>HVACFan:Fans:Electricity [kW](Hourly)</th>\n",
       "      <th>Electricity:HVAC [kW](Hourly)</th>\n",
       "      <th>Fans:Electricity [kW](Hourly)</th>\n",
       "      <th>General:InteriorLights:Electricity [kW](Hourly)</th>\n",
       "      <th>General:ExteriorLights:Electricity [kW](Hourly)</th>\n",
       "      <th>Appl:InteriorEquipment:Electricity [kW](Hourly)</th>\n",
       "      <th>Misc:InteriorEquipment:Electricity [kW](Hourly)</th>\n",
       "      <th>Water Heater:WaterSystems:Electricity [kW](Hourly)</th>\n",
       "      <th>Extra</th>\n",
       "      <th>total_consumption</th>\n",
       "    </tr>\n",
       "  </thead>\n",
       "  <tbody>\n",
       "    <tr>\n",
       "      <td>0</td>\n",
       "      <td>01/01  01:00:00</td>\n",
       "      <td>0.974334</td>\n",
       "      <td>4.452977</td>\n",
       "      <td>0.0</td>\n",
       "      <td>4.425010</td>\n",
       "      <td>0.0</td>\n",
       "      <td>0.112709</td>\n",
       "      <td>0.112709</td>\n",
       "      <td>0.112709</td>\n",
       "      <td>0.154019</td>\n",
       "      <td>0.033180</td>\n",
       "      <td>0.092943</td>\n",
       "      <td>0.406035</td>\n",
       "      <td>0.158803</td>\n",
       "      <td>0.0</td>\n",
       "      <td>11.035430</td>\n",
       "    </tr>\n",
       "    <tr>\n",
       "      <td>1</td>\n",
       "      <td>01/01  02:00:00</td>\n",
       "      <td>0.796582</td>\n",
       "      <td>4.850317</td>\n",
       "      <td>0.0</td>\n",
       "      <td>4.824566</td>\n",
       "      <td>0.0</td>\n",
       "      <td>0.122617</td>\n",
       "      <td>0.122617</td>\n",
       "      <td>0.122617</td>\n",
       "      <td>0.089845</td>\n",
       "      <td>0.019355</td>\n",
       "      <td>0.076186</td>\n",
       "      <td>0.373851</td>\n",
       "      <td>0.098084</td>\n",
       "      <td>0.0</td>\n",
       "      <td>11.496637</td>\n",
       "    </tr>\n",
       "    <tr>\n",
       "      <td>2</td>\n",
       "      <td>01/01  03:00:00</td>\n",
       "      <td>0.735028</td>\n",
       "      <td>5.037645</td>\n",
       "      <td>0.0</td>\n",
       "      <td>5.012193</td>\n",
       "      <td>0.0</td>\n",
       "      <td>0.127099</td>\n",
       "      <td>0.127099</td>\n",
       "      <td>0.127099</td>\n",
       "      <td>0.064175</td>\n",
       "      <td>0.013825</td>\n",
       "      <td>0.062326</td>\n",
       "      <td>0.369517</td>\n",
       "      <td>0.081442</td>\n",
       "      <td>0.0</td>\n",
       "      <td>11.757447</td>\n",
       "    </tr>\n",
       "    <tr>\n",
       "      <td>3</td>\n",
       "      <td>01/01  04:00:00</td>\n",
       "      <td>0.727433</td>\n",
       "      <td>5.107562</td>\n",
       "      <td>0.0</td>\n",
       "      <td>5.082468</td>\n",
       "      <td>0.0</td>\n",
       "      <td>0.128391</td>\n",
       "      <td>0.128391</td>\n",
       "      <td>0.128391</td>\n",
       "      <td>0.064175</td>\n",
       "      <td>0.013825</td>\n",
       "      <td>0.053976</td>\n",
       "      <td>0.364315</td>\n",
       "      <td>0.086107</td>\n",
       "      <td>0.0</td>\n",
       "      <td>11.885034</td>\n",
       "    </tr>\n",
       "    <tr>\n",
       "      <td>4</td>\n",
       "      <td>01/01  05:00:00</td>\n",
       "      <td>0.778706</td>\n",
       "      <td>5.270878</td>\n",
       "      <td>0.0</td>\n",
       "      <td>5.246732</td>\n",
       "      <td>0.0</td>\n",
       "      <td>0.132549</td>\n",
       "      <td>0.132549</td>\n",
       "      <td>0.132549</td>\n",
       "      <td>0.064175</td>\n",
       "      <td>0.013825</td>\n",
       "      <td>0.065823</td>\n",
       "      <td>0.350553</td>\n",
       "      <td>0.135137</td>\n",
       "      <td>0.0</td>\n",
       "      <td>12.323477</td>\n",
       "    </tr>\n",
       "  </tbody>\n",
       "</table>\n",
       "</div>"
      ],
      "text/plain": [
       "          Date/Time  Electricity:Facility [kW](Hourly)  \\\n",
       "0   01/01  01:00:00                           0.974334   \n",
       "1   01/01  02:00:00                           0.796582   \n",
       "2   01/01  03:00:00                           0.735028   \n",
       "3   01/01  04:00:00                           0.727433   \n",
       "4   01/01  05:00:00                           0.778706   \n",
       "\n",
       "   Gas:Facility [kW](Hourly)  Heating:Electricity [kW](Hourly)  \\\n",
       "0                   4.452977                               0.0   \n",
       "1                   4.850317                               0.0   \n",
       "2                   5.037645                               0.0   \n",
       "3                   5.107562                               0.0   \n",
       "4                   5.270878                               0.0   \n",
       "\n",
       "   Heating:Gas [kW](Hourly)  Cooling:Electricity [kW](Hourly)  \\\n",
       "0                  4.425010                               0.0   \n",
       "1                  4.824566                               0.0   \n",
       "2                  5.012193                               0.0   \n",
       "3                  5.082468                               0.0   \n",
       "4                  5.246732                               0.0   \n",
       "\n",
       "   HVACFan:Fans:Electricity [kW](Hourly)  Electricity:HVAC [kW](Hourly)  \\\n",
       "0                               0.112709                       0.112709   \n",
       "1                               0.122617                       0.122617   \n",
       "2                               0.127099                       0.127099   \n",
       "3                               0.128391                       0.128391   \n",
       "4                               0.132549                       0.132549   \n",
       "\n",
       "   Fans:Electricity [kW](Hourly)  \\\n",
       "0                       0.112709   \n",
       "1                       0.122617   \n",
       "2                       0.127099   \n",
       "3                       0.128391   \n",
       "4                       0.132549   \n",
       "\n",
       "   General:InteriorLights:Electricity [kW](Hourly)  \\\n",
       "0                                         0.154019   \n",
       "1                                         0.089845   \n",
       "2                                         0.064175   \n",
       "3                                         0.064175   \n",
       "4                                         0.064175   \n",
       "\n",
       "   General:ExteriorLights:Electricity [kW](Hourly)  \\\n",
       "0                                         0.033180   \n",
       "1                                         0.019355   \n",
       "2                                         0.013825   \n",
       "3                                         0.013825   \n",
       "4                                         0.013825   \n",
       "\n",
       "   Appl:InteriorEquipment:Electricity [kW](Hourly)  \\\n",
       "0                                         0.092943   \n",
       "1                                         0.076186   \n",
       "2                                         0.062326   \n",
       "3                                         0.053976   \n",
       "4                                         0.065823   \n",
       "\n",
       "   Misc:InteriorEquipment:Electricity [kW](Hourly)  \\\n",
       "0                                         0.406035   \n",
       "1                                         0.373851   \n",
       "2                                         0.369517   \n",
       "3                                         0.364315   \n",
       "4                                         0.350553   \n",
       "\n",
       "   Water Heater:WaterSystems:Electricity [kW](Hourly)   Extra  \\\n",
       "0                                           0.158803      0.0   \n",
       "1                                           0.098084      0.0   \n",
       "2                                           0.081442      0.0   \n",
       "3                                           0.086107      0.0   \n",
       "4                                           0.135137      0.0   \n",
       "\n",
       "   total_consumption  \n",
       "0          11.035430  \n",
       "1          11.496637  \n",
       "2          11.757447  \n",
       "3          11.885034  \n",
       "4          12.323477  "
      ]
     },
     "execution_count": 8,
     "metadata": {},
     "output_type": "execute_result"
    }
   ],
   "source": [
    "# Glimpse of the new data frame\n",
    "df.head()"
   ]
  },
  {
   "cell_type": "code",
   "execution_count": 9,
   "metadata": {},
   "outputs": [],
   "source": [
    "# Get month, day and HE\n",
    "dfnew = df.copy()\n",
    "dfnew['month'] = dfnew['Date/Time'].apply(lambda x: int(x.split()[0][:2]))\n",
    "dfnew['day'] = dfnew['Date/Time'].apply(lambda x: int(x.split()[0][-2:]))\n",
    "dfnew['HE'] = dfnew['Date/Time'].apply(lambda x: int(x.split()[1][:2]))"
   ]
  },
  {
   "cell_type": "code",
   "execution_count": 10,
   "metadata": {},
   "outputs": [],
   "source": [
    "# Get weekday using month and day\n",
    "def get_weekday(row):\n",
    "    d = datetime.date(year, row['month'], row['day'])\n",
    "    return d.strftime('%a')"
   ]
  },
  {
   "cell_type": "code",
   "execution_count": 11,
   "metadata": {},
   "outputs": [],
   "source": [
    "# Get weekday and clean data\n",
    "dfnew['weekday'] = dfnew.apply(lambda x: get_weekday(x), axis = 1)\n",
    "dfnew = dfnew[['month', 'day', 'weekday', 'HE', 'total_consumption']]"
   ]
  },
  {
   "cell_type": "code",
   "execution_count": 17,
   "metadata": {},
   "outputs": [
    {
     "data": {
      "image/png": "[encoded data removed]",
      "text/plain": [
       "<Figure size 576x360 with 1 Axes>"
      ]
     },
     "metadata": {
      "needs_background": "light"
     },
     "output_type": "display_data"
    }
   ],
   "source": [
    "# Sum and plot usage by hours\n",
    "dfhour = (dfnew >> group_by(X.HE) >> summarize(total_consumption = X.total_consumption.sum()) \n",
    "          >> select(X.HE, X.total_consumption))\n",
    "plt.figure(figsize=(8,5))\n",
    "plt.bar(dfhour['HE'], dfhour['total_consumption'])\n",
    "plt.xticks(np.arange(1, 25))\n",
    "plt.xlabel('HE')\n",
    "plt.ylabel('Total Consumption')\n",
    "plt.show()"
   ]
  },
  {
   "cell_type": "code",
   "execution_count": 31,
   "metadata": {},
   "outputs": [],
   "source": [
    "# Get month, day, weekday and HE for extra consumption data\n",
    "df2new = df2.copy()\n",
    "df2new['month'] = df2new['hour'].apply(lambda x: int(x.split()[0][:2]))\n",
    "df2new['day'] = df2new['hour'].apply(lambda x: int(x.split()[0][-2:]))\n",
    "df2new['HE'] = df2new['hour'].apply(lambda x: int(x.split()[1]) + 1)\n",
    "df2new['weekday'] = df2new.apply(lambda x: get_weekday(x), axis = 1)"
   ]
  },
  {
   "cell_type": "code",
   "execution_count": 32,
   "metadata": {},
   "outputs": [
    {
     "data": {
      "image/png": "[encoded data removed]",
      "text/plain": [
       "<Figure size 576x360 with 1 Axes>"
      ]
     },
     "metadata": {
      "needs_background": "light"
     },
     "output_type": "display_data"
    }
   ],
   "source": [
    "# Plot extra usage by hours\n",
    "df2hour =  (df2new >> group_by(X.HE) >> summarize(Extra = X.Extra.sum()) >> select(X.HE, X.Extra))\n",
    "plt.figure(figsize=(8,5))\n",
    "plt.bar(df2hour['HE'], df2hour['Extra'])\n",
    "plt.xticks(np.arange(1, 25))\n",
    "plt.xlabel('HE')\n",
    "plt.ylabel('Extra Consumption')\n",
    "plt.show()"
   ]
  },
  {
   "cell_type": "code",
   "execution_count": 33,
   "metadata": {},
   "outputs": [
    {
     "data": {
      "image/png": "[encoded data removed]",
      "text/plain": [
       "<Figure size 576x360 with 1 Axes>"
      ]
     },
     "metadata": {
      "needs_background": "light"
     },
     "output_type": "display_data"
    }
   ],
   "source": [
    "# Plot consumption without extra usage by hours\n",
    "noextra = dfhour['total_consumption'] - df2hour['Extra']\n",
    "plt.figure(figsize=(8,5))\n",
    "plt.bar(dfhour['HE'], noextra)\n",
    "plt.xticks(np.arange(1, 25))\n",
    "plt.xlabel('HE')\n",
    "plt.ylabel('No extra Consumption')\n",
    "plt.show()"
   ]
  },
  {
   "cell_type": "code",
   "execution_count": 46,
   "metadata": {},
   "outputs": [
    {
     "data": {
      "image/png": "[encoded data removed]",
      "text/plain": [
       "<Figure size 576x360 with 1 Axes>"
      ]
     },
     "metadata": {
      "needs_background": "light"
     },
     "output_type": "display_data"
    }
   ],
   "source": [
    "# Sum and plot usage by weekdays\n",
    "dfweek = (dfnew >> group_by(X.weekday) >> summarize(total_consumption = X.total_consumption.sum()) \n",
    "          >> select(X.weekday, X.total_consumption))\n",
    "weekday_order = ['Sun', 'Mon', 'Tue', 'Wed', 'Thu', 'Fri', 'Sat']\n",
    "dfweek['weekday'] = pd.Categorical(dfweek['weekday'], categories = weekday_order, ordered = True)\n",
    "dfweek = dfweek.sort_values('weekday')\n",
    "plt.figure(figsize=(8,5))\n",
    "plt.bar(dfweek['weekday'], dfweek['total_consumption'])\n",
    "plt.xlabel('weekday')\n",
    "plt.ylabel('Total Consumption')\n",
    "plt.show()"
   ]
  },
  {
   "cell_type": "code",
   "execution_count": 47,
   "metadata": {},
   "outputs": [
    {
     "data": {
      "image/png": "[encoded data removed]",
      "text/plain": [
       "<Figure size 576x360 with 1 Axes>"
      ]
     },
     "metadata": {
      "needs_background": "light"
     },
     "output_type": "display_data"
    }
   ],
   "source": [
    "# Plot extra usage by weekdays\n",
    "df2week =  (df2new >> group_by(X.weekday) >> summarize(Extra = X.Extra.sum()) >> select(X.weekday, X.Extra))\n",
    "df2week['weekday'] = pd.Categorical(df2week['weekday'], categories = weekday_order, ordered = True)\n",
    "df2week = df2week.sort_values('weekday')\n",
    "plt.figure(figsize=(8,5))\n",
    "plt.bar(df2week['weekday'], df2week['Extra'])\n",
    "plt.xlabel('weekday')\n",
    "plt.ylabel('Extra Consumption')\n",
    "plt.show()"
   ]
  },
  {
   "cell_type": "code",
   "execution_count": 48,
   "metadata": {},
   "outputs": [
    {
     "data": {
      "image/png": "[encoded data removed]",
      "text/plain": [
       "<Figure size 576x360 with 1 Axes>"
      ]
     },
     "metadata": {
      "needs_background": "light"
     },
     "output_type": "display_data"
    }
   ],
   "source": [
    "# Plot consumption without extra usage weekday\n",
    "noextra = dfweek['total_consumption'] - df2week['Extra']\n",
    "plt.figure(figsize=(8,5))\n",
    "plt.bar(dfweek['weekday'], noextra)\n",
    "plt.xlabel('weekday')\n",
    "plt.ylabel('No extra Consumption')\n",
    "plt.show()"
   ]
  },
  {
   "cell_type": "code",
   "execution_count": 66,
   "metadata": {},
   "outputs": [
    {
     "data": {
      "image/png": "[encoded data removed]",
      "text/plain": [
       "<Figure size 576x360 with 1 Axes>"
      ]
     },
     "metadata": {
      "needs_background": "light"
     },
     "output_type": "display_data"
    }
   ],
   "source": [
    "# Plot total usage by months\n",
    "dfmonth = (dfnew >> group_by(X.month) >> summarize(total_consumption = X.total_consumption.sum()) \n",
    "          >> select(X.month, X.total_consumption))\n",
    "plt.figure(figsize=(8,5))\n",
    "plt.bar(dfmonth['month'], dfmonth['total_consumption'])\n",
    "plt.xticks(np.arange(1, 13))\n",
    "plt.xlabel('month')\n",
    "plt.ylabel('Total Consumption')\n",
    "plt.show()"
   ]
  },
  {
   "cell_type": "code",
   "execution_count": 67,
   "metadata": {},
   "outputs": [
    {
     "data": {
      "image/png": "[encoded data removed]",
      "text/plain": [
       "<Figure size 576x360 with 1 Axes>"
      ]
     },
     "metadata": {
      "needs_background": "light"
     },
     "output_type": "display_data"
    }
   ],
   "source": [
    "# Plot extra usage by months\n",
    "df2month =  (df2new >> group_by(X.month) >> summarize(Extra = X.Extra.sum()) >> select(X.month, X.Extra))\n",
    "plt.figure(figsize=(8,5))\n",
    "plt.bar(df2month['month'], df2month['Extra'])\n",
    "plt.xticks(np.arange(1, 13))\n",
    "plt.xlabel('month')\n",
    "plt.ylabel('Extra Consumption')\n",
    "plt.show()"
   ]
  },
  {
   "cell_type": "code",
   "execution_count": 68,
   "metadata": {},
   "outputs": [
    {
     "data": {
      "image/png": "[encoded data removed]",
      "text/plain": [
       "<Figure size 576x360 with 1 Axes>"
      ]
     },
     "metadata": {
      "needs_background": "light"
     },
     "output_type": "display_data"
    }
   ],
   "source": [
    "# Plot consumption without extra usage by months\n",
    "dfmonth = (dfmonth >> left_join(df2month, by = 'month')).fillna(0)\n",
    "noextra = dfmonth['total_consumption'] - dfmonth['Extra']\n",
    "plt.figure(figsize=(8,5))\n",
    "plt.bar(dfmonth['month'], noextra)\n",
    "plt.xticks(np.arange(1, 13))\n",
    "plt.xlabel('month')\n",
    "plt.ylabel('No extra Consumption')\n",
    "plt.show()"
   ]
  },
  {
   "cell_type": "code",
   "execution_count": null,
   "metadata": {},
   "outputs": [],
   "source": []
  }
 ],
 "metadata": {
  "kernelspec": {
   "display_name": "Python 3",
   "language": "python",
   "name": "python3"
  },
  "language_info": {
   "codemirror_mode": {
    "name": "ipython",
    "version": 3
   },
   "file_extension": ".py",
   "mimetype": "text/x-python",
   "name": "python",
   "nbconvert_exporter": "python",
   "pygments_lexer": "ipython3",
   "version": "3.7.4"
  }
 },
 "nbformat": 4,
 "nbformat_minor": 2
}
